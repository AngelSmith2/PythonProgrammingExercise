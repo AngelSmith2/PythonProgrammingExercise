{
 "cells": [
  {
   "cell_type": "markdown",
   "metadata": {},
   "source": [
    "# List Exercise 1"
   ]
  },
  {
   "cell_type": "code",
   "execution_count": 3,
   "metadata": {},
   "outputs": [],
   "source": [
    "# declare \n",
    "myNumberlist = [1,2,3,4,5,6,7,8,9]\n",
    "myNamelist = [\"ana\",\"ben\",\"carol\",\"derek\",\"eligah\",\"fred\",\"greg\"]"
   ]
  },
  {
   "cell_type": "code",
   "execution_count": 5,
   "metadata": {},
   "outputs": [
    {
     "name": "stdout",
     "output_type": "stream",
     "text": [
      "[1, 2, 3, 4, 5, 6, 7, 8, 9]\n",
      "['ana', 'ben', 'carol', 'derek', 'eligah', 'fred', 'greg']\n"
     ]
    }
   ],
   "source": [
    "# output the whole list with its structure\n",
    "print(myNumberlist)\n",
    "print (myNamelist)"
   ]
  },
  {
   "cell_type": "code",
   "execution_count": 8,
   "metadata": {},
   "outputs": [
    {
     "name": "stdout",
     "output_type": "stream",
     "text": [
      "ana\n",
      "ben\n",
      "carol\n",
      "derek\n",
      "eligah\n",
      "fred\n",
      "greg\n"
     ]
    }
   ],
   "source": [
    "for item in (myNamelist):\n",
    "    print (item)"
   ]
  },
  {
   "cell_type": "code",
   "execution_count": 10,
   "metadata": {},
   "outputs": [
    {
     "name": "stdout",
     "output_type": "stream",
     "text": [
      "ana ben carol derek eligah fred greg "
     ]
    }
   ],
   "source": [
    "for item in (myNamelist):\n",
    "    print (item, end=\" \")"
   ]
  },
  {
   "cell_type": "code",
   "execution_count": 13,
   "metadata": {},
   "outputs": [
    {
     "name": "stdout",
     "output_type": "stream",
     "text": [
      "7\n",
      "9\n"
     ]
    }
   ],
   "source": [
    "x =len(myNamelist)\n",
    "print(x)\n",
    "y = len(myNumberlist)\n",
    "print (y)"
   ]
  },
  {
   "cell_type": "code",
   "execution_count": 19,
   "metadata": {},
   "outputs": [
    {
     "name": "stdout",
     "output_type": "stream",
     "text": [
      "ana\n",
      "carol\n",
      "eligah\n",
      "greg\n"
     ]
    }
   ],
   "source": [
    "# how to print every second element of the list\n",
    "for i in range (len(myNamelist)):\n",
    "    # only print if the list number is divisble by 2\n",
    "    if i%2 == 0:\n",
    "        print(myNamelist[i])"
   ]
  },
  {
   "cell_type": "code",
   "execution_count": 25,
   "metadata": {},
   "outputs": [
    {
     "name": "stdout",
     "output_type": "stream",
     "text": [
      "ana\n",
      "carol\n",
      "eligah\n",
      "greg\n"
     ]
    }
   ],
   "source": [
    "for i in range (0, (len(myNamelist)), 2):\n",
    "    print(myNamelist[i])\n",
    "    # Range (Start,Stop,Step)"
   ]
  }
 ],
 "metadata": {
  "kernelspec": {
   "display_name": "Python 3",
   "language": "python",
   "name": "python3"
  },
  "language_info": {
   "codemirror_mode": {
    "name": "ipython",
    "version": 3
   },
   "file_extension": ".py",
   "mimetype": "text/x-python",
   "name": "python",
   "nbconvert_exporter": "python",
   "pygments_lexer": "ipython3",
   "version": "3.5.2"
  }
 },
 "nbformat": 4,
 "nbformat_minor": 2
}
