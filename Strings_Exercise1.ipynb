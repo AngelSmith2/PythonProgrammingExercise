{
 "cells": [
  {
   "cell_type": "markdown",
   "metadata": {},
   "source": [
    "# Strings Execise 1"
   ]
  },
  {
   "cell_type": "code",
   "execution_count": 2,
   "metadata": {},
   "outputs": [],
   "source": [
    "# create a variable with the data type string\n",
    "myString = \"hello world\"\n",
    "# in a game an example of a string\n",
    "username = \"Jane\"\n",
    "words = \"Words are string datatypes\"\n",
    "question = \"what is the capital of Mali\"\n",
    "age = 10"
   ]
  },
  {
   "cell_type": "code",
   "execution_count": 4,
   "metadata": {},
   "outputs": [
    {
     "name": "stdout",
     "output_type": "stream",
     "text": [
      "Words are string datatypes\n",
      "Words are string datatypeswhat is the capital of Mali\n",
      "hello user Jane\n",
      "hello userJane\n"
     ]
    },
    {
     "ename": "TypeError",
     "evalue": "Can't convert 'int' object to str implicitly",
     "output_type": "error",
     "traceback": [
      "\u001b[0;31m---------------------------------------------------------------------------\u001b[0m",
      "\u001b[0;31mTypeError\u001b[0m                                 Traceback (most recent call last)",
      "\u001b[0;32m<ipython-input-4-82a73bb3278b>\u001b[0m in \u001b[0;36m<module>\u001b[0;34m()\u001b[0m\n\u001b[1;32m      6\u001b[0m \u001b[0mprint\u001b[0m \u001b[0;34m(\u001b[0m\u001b[0;34m\"hello user\"\u001b[0m\u001b[0;34m,\u001b[0m \u001b[0musername\u001b[0m\u001b[0;34m)\u001b[0m\u001b[0;34m\u001b[0m\u001b[0m\n\u001b[1;32m      7\u001b[0m \u001b[0mprint\u001b[0m \u001b[0;34m(\u001b[0m\u001b[0;34m\"hello user\"\u001b[0m\u001b[0;34m+\u001b[0m \u001b[0musername\u001b[0m\u001b[0;34m)\u001b[0m\u001b[0;34m\u001b[0m\u001b[0m\n\u001b[0;32m----> 8\u001b[0;31m \u001b[0mprint\u001b[0m \u001b[0;34m(\u001b[0m\u001b[0;34m\"hello user\"\u001b[0m\u001b[0;34m+\u001b[0m \u001b[0mage\u001b[0m \u001b[0;34m)\u001b[0m\u001b[0;34m\u001b[0m\u001b[0m\n\u001b[0m",
      "\u001b[0;31mTypeError\u001b[0m: Can't convert 'int' object to str implicitly"
     ]
    }
   ],
   "source": [
    "# functions that i can use to output input and do other things with strings\n",
    "# output\n",
    "print (words)\n",
    "print (words+question) # When you use strings you are concatenating strings \n",
    "# printing hardcoded and variables\n",
    "print (\"hello user\", username)\n",
    "print (\"hello user\"+ username)\n",
    "print (\"hello user\"+ age )"
   ]
  },
  {
   "cell_type": "code",
   "execution_count": 5,
   "metadata": {},
   "outputs": [
    {
     "name": "stdout",
     "output_type": "stream",
     "text": [
      "hello user of age 10\n"
     ]
    }
   ],
   "source": [
    "# Convert int  into a string using a function\n",
    "print (\"hello user of age\", str(age))"
   ]
  },
  {
   "cell_type": "code",
   "execution_count": 7,
   "metadata": {},
   "outputs": [
    {
     "name": "stdout",
     "output_type": "stream",
     "text": [
      "what is your namejane \n",
      "jane \n",
      "what is your age10\n",
      "10\n",
      "what is your age10\n"
     ]
    }
   ],
   "source": [
    "username = input (\"what is your name\")\n",
    "print(username)\n",
    "age = input (\"what is your age\")\n",
    "print(age)\n",
    "# if we want to use age as a number use int function\n",
    "age = int(input(\"what is your age\"))"
   ]
  }
 ],
 "metadata": {
  "kernelspec": {
   "display_name": "Python 3",
   "language": "python",
   "name": "python3"
  },
  "language_info": {
   "codemirror_mode": {
    "name": "ipython",
    "version": 3
   },
   "file_extension": ".py",
   "mimetype": "text/x-python",
   "name": "python",
   "nbconvert_exporter": "python",
   "pygments_lexer": "ipython3",
   "version": "3.5.2"
  }
 },
 "nbformat": 4,
 "nbformat_minor": 2
}
